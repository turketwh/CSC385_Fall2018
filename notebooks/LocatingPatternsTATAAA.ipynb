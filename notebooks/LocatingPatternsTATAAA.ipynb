{
 "cells": [
  {
   "cell_type": "markdown",
   "metadata": {},
   "source": [
    "# Locating Patterns - TATAAA"
   ]
  },
  {
   "cell_type": "markdown",
   "metadata": {},
   "source": [
    "## Naive algorithm"
   ]
  },
  {
   "cell_type": "code",
   "execution_count": null,
   "metadata": {},
   "outputs": [],
   "source": [
    "def naive(pattern,text):\n",
    "    patternLength = len(pattern)\n",
    "    textLength = len(text)\n",
    "    assert patternLength <= textLength\n",
    "    occurrences = []\n",
    "    comparisonsMade = 0\n",
    "    \n",
    "    for i in range(textLength-patternLength+1):\n",
    "        match = True\n",
    "        for j in range(patternLength):\n",
    "            print(\"Comparing pattern[\",j,\"]\",pattern[j],\"to text[\",i+j,\"]\",text[i+j])\n",
    "            comparisonsMade = comparisonsMade + 1\n",
    "            if (text[i+j] != pattern[j]):\n",
    "                match = False\n",
    "                break\n",
    "        if (match == True):\n",
    "                occurrences.append(i)\n",
    "    print(\"Comparisons made:\", comparisonsMade)\n",
    "    return occurrences;\n",
    "        \n",
    "# This represents the pattern we are searching for\n",
    "pattern = \"TATAAA\"\n",
    "# This represents the text we are searching in\n",
    "text = \"CGTTATAAAC\"\n",
    "\n",
    "# This uses the naive function (written above) to search for the pattern within the text\n",
    "occurrences = naive(pattern,text)\n",
    "print(\"Naive Search\")\n",
    "print(\"Occurrences:\")\n",
    "print(len(occurrences), \" occurrences of pattern\", pattern,\"in\", text)\n",
    "for occurence in occurrences:\n",
    "    print(\"Position \",occurence)"
   ]
  },
  {
   "cell_type": "markdown",
   "metadata": {},
   "source": [
    "## Aho-Corasick algorithm"
   ]
  },
  {
   "cell_type": "code",
   "execution_count": null,
   "metadata": {},
   "outputs": [],
   "source": [
    "def ahoCorasick(text, symbolMapping,gotoTable, failTable, outputTable):\n",
    "    textLength = len(text)\n",
    "    occurrences = []\n",
    "    comparisonsMade = 0\n",
    "    transitionsMade = 0\n",
    "    \n",
    "    state = 0\n",
    "    \n",
    "    for i in range(textLength):\n",
    "        symbol = text[i]\n",
    "        numSymbol = symbolMapping[symbol]\n",
    "        print(\"Text[\",i,\"]\",text[i])\n",
    "        comparisonsMade = comparisonsMade + 1\n",
    "        while (gotoTable[state][numSymbol] == -1):\n",
    "            state = failTable[state]\n",
    "            transitionsMade = transitionsMade + 1\n",
    "            comparisonsMade = comparisonsMade + 1\n",
    "            print(\"Failing to state\",state)\n",
    "        state = gotoTable[state][numSymbol]\n",
    "        transitionsMade = transitionsMade + 1\n",
    "        print(\"Now in state\",state)\n",
    "        if (outputTable[state] != \"\"):\n",
    "            occurrences.append(i-len(outputTable[state])+1)\n",
    "        \n",
    "    print(\"Comparisons made:\", comparisonsMade)\n",
    "    print(\"Transitions made:\", transitionsMade)\n",
    "    return occurrences;\n",
    "        \n",
    "symbolMapping = {'A':0,'C':1,'G':2,'T':3}\n",
    "\n",
    "# This represents the pattern we are searching for\n",
    "pattern = \"TATAAA\"\n",
    "# This represents the text we are searching in\n",
    "text = \"CGTTATAAAC\"\n",
    "\n",
    "gotoTable = [[0, 0, 0, 1],[2, -1, -1, -1],[-1, -1, -1, 3],[4, -1, -1, 1],\n",
    "             [5, -1, -1, -1],[6, -1, -1, -1],[-1, -1, -1, -1]]\n",
    "failureTable = [-1, 0, 0, 1, 2, 0, 0]\n",
    "outputTable = [\"\", \"\", \"\", \"\", \"\",\"\", \"TATAAA\"]\n",
    "\n",
    "# This uses the ahoCorasick function (written above) to search for the pattern within the text\n",
    "occurrences = ahoCorasick(text, symbolMapping, gotoTable, failureTable, outputTable)\n",
    "print(\"Occurrences:\")\n",
    "print(len(occurrences), \" occurrences of pattern\", pattern,\"in\", text)\n",
    "for occurence in occurrences:\n",
    "    print(\"Position \",occurence)"
   ]
  }
 ],
 "metadata": {
  "kernelspec": {
   "display_name": "Python 3",
   "language": "python",
   "name": "python3"
  },
  "language_info": {
   "codemirror_mode": {
    "name": "ipython",
    "version": 3
   },
   "file_extension": ".py",
   "mimetype": "text/x-python",
   "name": "python",
   "nbconvert_exporter": "python",
   "pygments_lexer": "ipython3",
   "version": "3.6.4"
  }
 },
 "nbformat": 4,
 "nbformat_minor": 2
}
