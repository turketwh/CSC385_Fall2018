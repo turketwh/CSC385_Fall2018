{
 "cells": [
  {
   "cell_type": "markdown",
   "metadata": {},
   "source": [
    "# Welcome \n",
    "\n",
    "## Introduction\n",
    "\n",
    "Welcome to the example Jupyter notebook for the Bioinformatics course.  The purpose of this example notebook is to make sure you can access and manipulate a Jupyter notebook from your laptop.  We will use these notebooks throughout the semester as a means of allowing you to read content related to the course topics, as well as a means to experiment with and manipulate relevant algorithms.\n",
    "\n",
    "## Notebook design\n",
    "\n",
    "Jupyter notebooks are commonly composed of two types of content: text content (usually written in the Markdown language) and source code (instructions implementing algorithms). \n",
    "\n",
    "### Markdown text cells\n",
    "\n",
    "This text is in a Markdown cell, so it is rendered for readability.  \n",
    "\n",
    "\n",
    "### A cell with Python program instructions\n",
    "\n",
    "In the cell below is an example program written in the programming language Python.  The purpose of the program is to determine the maximum of the values in the list named *listOfValues*.  The lines that start with a *#* symbol are comments describing the different parts of the program."
   ]
  },
  {
   "cell_type": "code",
   "execution_count": null,
   "metadata": {},
   "outputs": [],
   "source": [
    "# create a list of values\n",
    "listOfValues = [2, 8, 3, 5, 9, 1]\n",
    "\n",
    "# create a variable to hold the maximum value\n",
    "# assign it the value of the first entry in the list\n",
    "maxValue = listOfValues[0]\n",
    "\n",
    "# iterate over the list, comparing each value to maxValue\n",
    "# assign maxValue the value in the list if it is larger than\n",
    "# the current maxValue\n",
    "for value in listOfValues:\n",
    "    if (value > maxValue):\n",
    "        maxValue = value\n",
    "        \n",
    "# print the maximum value to the screen\n",
    "print(\"The maximum value in the list is\", maxValue)\n"
   ]
  },
  {
   "cell_type": "markdown",
   "metadata": {},
   "source": [
    "## Executing a program\n",
    "\n",
    "If you would like to *execute* the program instructions in a cell, you can use several approaches:\n",
    "\n",
    "* Click on the cell with the instructions you want to execute (in order to select it) and then press the *Shift* and *Enter* keys together.\n",
    "* Alternatively, go to the *Cell* menu and choose *Run cells* if you want to run only the cell you have selected, or *Run all* to run all the code cells in the document.\n",
    "* Alternatively, if you are using this notebook within mybinder.org, there is a \"play\" button just to the left of the cell which can be used to execute the instructions in the cell.\n",
    "\n",
    "When a code cell has been executed, its output will show up directly under the instructions.  \n",
    "If you execute the instructions above, you should see output that looks like:\n",
    "```\n",
    "The maximum value in the list is 9\n",
    "```"
   ]
  },
  {
   "cell_type": "markdown",
   "metadata": {},
   "source": [
    "## Manipulating program instructions\n",
    "\n",
    "You can change the code cells and then execute your new instructions.  Try changing the example above to include the value 11 somewhere in the list.  For example, you could change the line:\n",
    "\n",
    "```Python\n",
    "listOfValues = [2, 8, 3, 5, 9, 1]\n",
    "```\n",
    "\n",
    "so that it now looks like this:\n",
    "\n",
    "```Python\n",
    "listOfValues = [2, 8, 3, 11, 5, 9, 1]\n",
    "```\n",
    "\n",
    "When you make your changes, make sure there are commas between each of the values. \n",
    "\n",
    "After making your changes, re-execute the cell.  You should now see output that looks like: \n",
    "```\n",
    "The maximum value in the list is 11\n",
    "```"
   ]
  }
 ],
 "metadata": {
  "kernelspec": {
   "display_name": "Python 3",
   "language": "python",
   "name": "python3"
  },
  "language_info": {
   "codemirror_mode": {
    "name": "ipython",
    "version": 3
   },
   "file_extension": ".py",
   "mimetype": "text/x-python",
   "name": "python",
   "nbconvert_exporter": "python",
   "pygments_lexer": "ipython3",
   "version": "3.6.4"
  }
 },
 "nbformat": 4,
 "nbformat_minor": 2
}
