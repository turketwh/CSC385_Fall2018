{
 "cells": [
  {
   "cell_type": "markdown",
   "metadata": {},
   "source": [
    "# Logarithm and power helper\n",
    "    \n",
    "## Purpose\n",
    "    \n",
    "The purpose of this notebook is to help compute logarithms.  The two cells immediately below are for logarithms, and then the bottom two cells are for powers."
   ]
  },
  {
   "cell_type": "markdown",
   "metadata": {},
   "source": [
    "## Logarithm usage\n",
    "    \n",
    "There are two variables named *value* and *base* in the code cell below. Change the value after the equals sign on both of those lines to reflect the values you are interested in using.  For example, if you wanted to compute logarithm base 2 of the value 8, have the two lines appear like the following:\n",
    "\n",
    "```python\n",
    "value = 8\n",
    "base = 2\n",
    "```\n",
    "\n",
    "The result for the example above should be:\n",
    "\n",
    "```python\n",
    "3.0\n",
    "```"
   ]
  },
  {
   "cell_type": "code",
   "execution_count": null,
   "metadata": {},
   "outputs": [],
   "source": [
    "# This brings in a library of programming instructions to help do math functions\n",
    "import math\n",
    "\n",
    "# These are the two values you will use in computing the logarithm\n",
    "value = 8\n",
    "base = 2\n",
    "\n",
    "# This computes the logarithm of the specified value, with respect to the specified base\n",
    "logarithmResult = math.log(value,base)\n",
    "\n",
    "# This prints the result to the screen\n",
    "print(logarithmResult)"
   ]
  },
  {
   "cell_type": "markdown",
   "metadata": {},
   "source": [
    "## Power usage\n",
    "    \n",
    "There are two variables named *value* and *exponent* in the code cell below. Change the value after the equals sign on both of those lines to reflect the values you are interested in using.  For example, if you wanted to compute logarithm base 2 of the value 8, have the two lines appear like the following:\n",
    "\n",
    "```python\n",
    "value = 2\n",
    "exponent = 4\n",
    "```\n",
    "\n",
    "The result for the example above should be:\n",
    "\n",
    "```python\n",
    "16.0\n",
    "```"
   ]
  },
  {
   "cell_type": "code",
   "execution_count": null,
   "metadata": {},
   "outputs": [],
   "source": [
    "# This brings in a library of programming instructions to help do math functions\n",
    "import math\n",
    "\n",
    "# These are the two values you will use in computing the power\n",
    "value = 2\n",
    "exponent = 4\n",
    "\n",
    "# This computes the specified value raised to the specified exponent\n",
    "powerResult = math.pow(value,exponent)\n",
    "\n",
    "# This prints the result to the screen\n",
    "print(powerResult)"
   ]
  }
 ],
 "metadata": {
  "kernelspec": {
   "display_name": "Python 3",
   "language": "python",
   "name": "python3"
  },
  "language_info": {
   "codemirror_mode": {
    "name": "ipython",
    "version": 3
   },
   "file_extension": ".py",
   "mimetype": "text/x-python",
   "name": "python",
   "nbconvert_exporter": "python",
   "pygments_lexer": "ipython3",
   "version": "3.6.4"
  }
 },
 "nbformat": 4,
 "nbformat_minor": 2
}
